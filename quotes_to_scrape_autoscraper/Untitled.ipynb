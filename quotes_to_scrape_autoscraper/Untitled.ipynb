{
 "cells": [
  {
   "cell_type": "code",
   "execution_count": 1,
   "id": "f5bb4c00",
   "metadata": {},
   "outputs": [],
   "source": [
    "from autoscraper import AutoScraper"
   ]
  },
  {
   "cell_type": "code",
   "execution_count": 4,
   "id": "da27d1d4",
   "metadata": {},
   "outputs": [],
   "source": [
    "amazon_url=\"https://www.amazon.in/s?k=iphones\"\n",
    "\n",
    "wanted_list=[\"₹74,900\",\"Apple iPhone 13 (128GB) - Starlight\"]"
   ]
  },
  {
   "cell_type": "code",
   "execution_count": 5,
   "id": "0e9736ab",
   "metadata": {},
   "outputs": [
    {
     "name": "stdout",
     "output_type": "stream",
     "text": [
      "['₹74,900', '₹79,900', '₹59,999', '₹70,900', '₹49,900', '₹54,999', '₹65,900', '₹53,999', '₹13,999', '₹24,999', '₹1,19,900', '₹84,900', '₹89,900', '₹69,900', '₹34,999', '₹47,900', '₹52,700', '₹54,900', '₹52,500', 'Apple iPhone 12 (64GB) - Green', 'Apple iPhone 13 (128GB) - Midnight']\n"
     ]
    }
   ],
   "source": [
    "scraper=AutoScraper()\n",
    "result=scraper.build(amazon_url,wanted_list)\n",
    "print(result)"
   ]
  },
  {
   "cell_type": "code",
   "execution_count": null,
   "id": "d23cf016",
   "metadata": {},
   "outputs": [],
   "source": [
    "scraper.get_result_similar(amazon_url,grouped=True)"
   ]
  }
 ],
 "metadata": {
  "kernelspec": {
   "display_name": "Python 3 (ipykernel)",
   "language": "python",
   "name": "python3"
  },
  "language_info": {
   "codemirror_mode": {
    "name": "ipython",
    "version": 3
   },
   "file_extension": ".py",
   "mimetype": "text/x-python",
   "name": "python",
   "nbconvert_exporter": "python",
   "pygments_lexer": "ipython3",
   "version": "3.8.11"
  },
  "toc": {
   "base_numbering": 1,
   "nav_menu": {},
   "number_sections": true,
   "sideBar": true,
   "skip_h1_title": false,
   "title_cell": "Table of Contents",
   "title_sidebar": "Contents",
   "toc_cell": false,
   "toc_position": {},
   "toc_section_display": true,
   "toc_window_display": false
  }
 },
 "nbformat": 4,
 "nbformat_minor": 5
}
